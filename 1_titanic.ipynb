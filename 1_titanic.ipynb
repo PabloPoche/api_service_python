{
  "nbformat": 4,
  "nbformat_minor": 0,
  "metadata": {
    "colab": {
      "provenance": [],
      "include_colab_link": true
    },
    "kernelspec": {
      "name": "python3",
      "display_name": "Python 3"
    },
    "accelerator": "GPU",
    "gpuClass": "standard"
  },
  "cells": [
    {
      "cell_type": "markdown",
      "metadata": {
        "id": "view-in-github",
        "colab_type": "text"
      },
      "source": [
        "<a href=\"https://colab.research.google.com/github/PabloPoche/api_service_python/blob/master/1_titanic.ipynb\" target=\"_parent\"><img src=\"https://colab.research.google.com/assets/colab-badge.svg\" alt=\"Open In Colab\"/></a>"
      ]
    },
    {
      "cell_type": "markdown",
      "metadata": {
        "id": "67RBrvkUviuj"
      },
      "source": [
        "<a href=\"https://www.inove.com.ar\"><img src=\"https://raw.githubusercontent.com/InoveAlumnos/dataset_analytics_python/master/images/PA%20Banner.png\" width=\"1000\" align=\"center\"></a>\n",
        "\n",
        "\n",
        "# Ejercicio de clasificación con titanic dataset\n",
        "\n",
        "Ejemplo de clasificación utilizando el dataset de titanic<br>\n",
        "\n",
        "v1.1"
      ]
    },
    {
      "cell_type": "code",
      "metadata": {
        "id": "y2sSeyEovSw-"
      },
      "source": [
        "import os\n",
        "import platform\n",
        "\n",
        "import numpy as np\n",
        "import matplotlib.pyplot as plt\n",
        "import seaborn as sns\n",
        "import pandas as pd\n",
        "\n",
        "import keras\n",
        "import tensorflow as tf\n",
        "from keras.models import Sequential\n",
        "#from keras.utils import to_categorical  \n",
        "from keras.utils.np_utils import to_categorical # Si esto no funciona, probar con el import anterior"
      ],
      "execution_count": 1,
      "outputs": []
    },
    {
      "cell_type": "markdown",
      "metadata": {
        "id": "7Szo7P_3v00C"
      },
      "source": [
        "# Recolectar datos\n",
        "<img src=\"https://raw.githubusercontent.com/InoveAlumnos/dataset_analytics_python/master/images/Pipeline1.png\" width=\"1000\" align=\"middle\">"
      ]
    },
    {
      "cell_type": "code",
      "metadata": {
        "id": "HnVpNGuAvyFi",
        "colab": {
          "base_uri": "https://localhost:8080/"
        },
        "outputId": "654ac149-3e4c-4e6f-e3ea-bd5e14119fbc"
      },
      "source": [
        "if os.access('titanic.csv', os.F_OK) is False:\n",
        "    if platform.system() == 'Windows':\n",
        "        !curl https://raw.githubusercontent.com/InoveAlumnos/dataset_analytics_python/master/titanic.csv > titanic.csv\n",
        "    else:\n",
        "        !wget titanic.csv https://raw.githubusercontent.com/InoveAlumnos/dataset_analytics_python/master/titanic.csv"
      ],
      "execution_count": 2,
      "outputs": [
        {
          "output_type": "stream",
          "name": "stdout",
          "text": [
            "--2023-04-01 12:52:09--  http://titanic.csv/\n",
            "Resolving titanic.csv (titanic.csv)... failed: Name or service not known.\n",
            "wget: unable to resolve host address ‘titanic.csv’\n",
            "--2023-04-01 12:52:09--  https://raw.githubusercontent.com/InoveAlumnos/dataset_analytics_python/master/titanic.csv\n",
            "Resolving raw.githubusercontent.com (raw.githubusercontent.com)... 185.199.108.133, 185.199.109.133, 185.199.110.133, ...\n",
            "Connecting to raw.githubusercontent.com (raw.githubusercontent.com)|185.199.108.133|:443... connected.\n",
            "HTTP request sent, awaiting response... 200 OK\n",
            "Length: 61194 (60K) [text/plain]\n",
            "Saving to: ‘titanic.csv’\n",
            "\n",
            "\rtitanic.csv           0%[                    ]       0  --.-KB/s               \rtitanic.csv         100%[===================>]  59.76K  --.-KB/s    in 0.008s  \n",
            "\n",
            "2023-04-01 12:52:10 (7.23 MB/s) - ‘titanic.csv’ saved [61194/61194]\n",
            "\n",
            "FINISHED --2023-04-01 12:52:10--\n",
            "Total wall clock time: 0.2s\n",
            "Downloaded: 1 files, 60K in 0.008s (7.23 MB/s)\n"
          ]
        }
      ]
    },
    {
      "cell_type": "markdown",
      "metadata": {
        "id": "BbNSgxdfw0ix"
      },
      "source": [
        "### `titanic.csv`:\n",
        "El dataset **`titanic.csv`** contiene datos sobre los pasajeros que estuvieron en el titanic y si finalmente sobrevivieron o nó al viaje.<br>\n",
        "- **Passengerid** --> id del pasajero, ejemplo 5\n",
        "- **Survived** --> sobrevivió? 1(Si), 0(No)\n",
        "- **Pclass** --> clase (1, 2, 3)\n",
        "- **Name** --> nombre\n",
        "- **Sex** --> genero, ejemplo male(masculino), female(femenino)\n",
        "- **Age** --> edad\n",
        "- **Siblings** --> Hermanos y esposas/esposos abordo\n",
        "- **Parch** --> Hijos abordo\n",
        "- **Ticket** --> Nº de ticket\n",
        "- **Fare** --> tarifa del ticket\n",
        "- **Cabine** --> Nº de cabina\n",
        "- **Embarked** --> Puerto de embarque (C = Cherbourg; Q = Queenstown; S = Southampton)\n"
      ]
    },
    {
      "cell_type": "markdown",
      "metadata": {
        "id": "NHHsGe1Qypde"
      },
      "source": [
        "# Procesar datos\n",
        "<img src=\"https://raw.githubusercontent.com/InoveAlumnos/dataset_analytics_python/master/images/Pipeline2.png\" width=\"1000\" align=\"middle\">"
      ]
    },
    {
      "cell_type": "code",
      "metadata": {
        "id": "uvzaKBMbyoiy",
        "colab": {
          "base_uri": "https://localhost:8080/"
        },
        "outputId": "e1ef389d-5e7d-414c-bf6c-d28982320b8c"
      },
      "source": [
        "# Alumno, realice una inspeccion del dataset en búsqueda de elementos faltantes\n",
        "df = pd.read_csv(\"titanic.csv\")\n",
        "df.isna().sum()"
      ],
      "execution_count": 3,
      "outputs": [
        {
          "output_type": "execute_result",
          "data": {
            "text/plain": [
              "PassengerId      0\n",
              "Survived         0\n",
              "Pclass           0\n",
              "Name             0\n",
              "Sex              0\n",
              "Age            177\n",
              "SibSp            0\n",
              "Parch            0\n",
              "Ticket           0\n",
              "Fare             0\n",
              "Cabin          687\n",
              "Embarked         2\n",
              "dtype: int64"
            ]
          },
          "metadata": {},
          "execution_count": 3
        }
      ]
    },
    {
      "cell_type": "code",
      "metadata": {
        "id": "Cw9HbE88y3wu",
        "colab": {
          "base_uri": "https://localhost:8080/",
          "height": 206
        },
        "outputId": "1484bd60-4baf-42bd-8172-22c6ea82a325"
      },
      "source": [
        "# Alumno, inspeccione el dataset, visualice las columnas que posee y sus primeras filas\n",
        "df.head()"
      ],
      "execution_count": 4,
      "outputs": [
        {
          "output_type": "execute_result",
          "data": {
            "text/plain": [
              "   PassengerId  Survived  Pclass  \\\n",
              "0            1         0       3   \n",
              "1            2         1       1   \n",
              "2            3         1       3   \n",
              "3            4         1       1   \n",
              "4            5         0       3   \n",
              "\n",
              "                                                Name     Sex   Age  SibSp  \\\n",
              "0                            Braund, Mr. Owen Harris    male  22.0      1   \n",
              "1  Cumings, Mrs. John Bradley (Florence Briggs Th...  female  38.0      1   \n",
              "2                             Heikkinen, Miss. Laina  female  26.0      0   \n",
              "3       Futrelle, Mrs. Jacques Heath (Lily May Peel)  female  35.0      1   \n",
              "4                           Allen, Mr. William Henry    male  35.0      0   \n",
              "\n",
              "   Parch            Ticket     Fare Cabin Embarked  \n",
              "0      0         A/5 21171   7.2500   NaN        S  \n",
              "1      0          PC 17599  71.2833   C85        C  \n",
              "2      0  STON/O2. 3101282   7.9250   NaN        S  \n",
              "3      0            113803  53.1000  C123        S  \n",
              "4      0            373450   8.0500   NaN        S  "
            ],
            "text/html": [
              "\n",
              "  <div id=\"df-e8901d43-9b4f-4741-ad00-a5ab47765bd1\">\n",
              "    <div class=\"colab-df-container\">\n",
              "      <div>\n",
              "<style scoped>\n",
              "    .dataframe tbody tr th:only-of-type {\n",
              "        vertical-align: middle;\n",
              "    }\n",
              "\n",
              "    .dataframe tbody tr th {\n",
              "        vertical-align: top;\n",
              "    }\n",
              "\n",
              "    .dataframe thead th {\n",
              "        text-align: right;\n",
              "    }\n",
              "</style>\n",
              "<table border=\"1\" class=\"dataframe\">\n",
              "  <thead>\n",
              "    <tr style=\"text-align: right;\">\n",
              "      <th></th>\n",
              "      <th>PassengerId</th>\n",
              "      <th>Survived</th>\n",
              "      <th>Pclass</th>\n",
              "      <th>Name</th>\n",
              "      <th>Sex</th>\n",
              "      <th>Age</th>\n",
              "      <th>SibSp</th>\n",
              "      <th>Parch</th>\n",
              "      <th>Ticket</th>\n",
              "      <th>Fare</th>\n",
              "      <th>Cabin</th>\n",
              "      <th>Embarked</th>\n",
              "    </tr>\n",
              "  </thead>\n",
              "  <tbody>\n",
              "    <tr>\n",
              "      <th>0</th>\n",
              "      <td>1</td>\n",
              "      <td>0</td>\n",
              "      <td>3</td>\n",
              "      <td>Braund, Mr. Owen Harris</td>\n",
              "      <td>male</td>\n",
              "      <td>22.0</td>\n",
              "      <td>1</td>\n",
              "      <td>0</td>\n",
              "      <td>A/5 21171</td>\n",
              "      <td>7.2500</td>\n",
              "      <td>NaN</td>\n",
              "      <td>S</td>\n",
              "    </tr>\n",
              "    <tr>\n",
              "      <th>1</th>\n",
              "      <td>2</td>\n",
              "      <td>1</td>\n",
              "      <td>1</td>\n",
              "      <td>Cumings, Mrs. John Bradley (Florence Briggs Th...</td>\n",
              "      <td>female</td>\n",
              "      <td>38.0</td>\n",
              "      <td>1</td>\n",
              "      <td>0</td>\n",
              "      <td>PC 17599</td>\n",
              "      <td>71.2833</td>\n",
              "      <td>C85</td>\n",
              "      <td>C</td>\n",
              "    </tr>\n",
              "    <tr>\n",
              "      <th>2</th>\n",
              "      <td>3</td>\n",
              "      <td>1</td>\n",
              "      <td>3</td>\n",
              "      <td>Heikkinen, Miss. Laina</td>\n",
              "      <td>female</td>\n",
              "      <td>26.0</td>\n",
              "      <td>0</td>\n",
              "      <td>0</td>\n",
              "      <td>STON/O2. 3101282</td>\n",
              "      <td>7.9250</td>\n",
              "      <td>NaN</td>\n",
              "      <td>S</td>\n",
              "    </tr>\n",
              "    <tr>\n",
              "      <th>3</th>\n",
              "      <td>4</td>\n",
              "      <td>1</td>\n",
              "      <td>1</td>\n",
              "      <td>Futrelle, Mrs. Jacques Heath (Lily May Peel)</td>\n",
              "      <td>female</td>\n",
              "      <td>35.0</td>\n",
              "      <td>1</td>\n",
              "      <td>0</td>\n",
              "      <td>113803</td>\n",
              "      <td>53.1000</td>\n",
              "      <td>C123</td>\n",
              "      <td>S</td>\n",
              "    </tr>\n",
              "    <tr>\n",
              "      <th>4</th>\n",
              "      <td>5</td>\n",
              "      <td>0</td>\n",
              "      <td>3</td>\n",
              "      <td>Allen, Mr. William Henry</td>\n",
              "      <td>male</td>\n",
              "      <td>35.0</td>\n",
              "      <td>0</td>\n",
              "      <td>0</td>\n",
              "      <td>373450</td>\n",
              "      <td>8.0500</td>\n",
              "      <td>NaN</td>\n",
              "      <td>S</td>\n",
              "    </tr>\n",
              "  </tbody>\n",
              "</table>\n",
              "</div>\n",
              "      <button class=\"colab-df-convert\" onclick=\"convertToInteractive('df-e8901d43-9b4f-4741-ad00-a5ab47765bd1')\"\n",
              "              title=\"Convert this dataframe to an interactive table.\"\n",
              "              style=\"display:none;\">\n",
              "        \n",
              "  <svg xmlns=\"http://www.w3.org/2000/svg\" height=\"24px\"viewBox=\"0 0 24 24\"\n",
              "       width=\"24px\">\n",
              "    <path d=\"M0 0h24v24H0V0z\" fill=\"none\"/>\n",
              "    <path d=\"M18.56 5.44l.94 2.06.94-2.06 2.06-.94-2.06-.94-.94-2.06-.94 2.06-2.06.94zm-11 1L8.5 8.5l.94-2.06 2.06-.94-2.06-.94L8.5 2.5l-.94 2.06-2.06.94zm10 10l.94 2.06.94-2.06 2.06-.94-2.06-.94-.94-2.06-.94 2.06-2.06.94z\"/><path d=\"M17.41 7.96l-1.37-1.37c-.4-.4-.92-.59-1.43-.59-.52 0-1.04.2-1.43.59L10.3 9.45l-7.72 7.72c-.78.78-.78 2.05 0 2.83L4 21.41c.39.39.9.59 1.41.59.51 0 1.02-.2 1.41-.59l7.78-7.78 2.81-2.81c.8-.78.8-2.07 0-2.86zM5.41 20L4 18.59l7.72-7.72 1.47 1.35L5.41 20z\"/>\n",
              "  </svg>\n",
              "      </button>\n",
              "      \n",
              "  <style>\n",
              "    .colab-df-container {\n",
              "      display:flex;\n",
              "      flex-wrap:wrap;\n",
              "      gap: 12px;\n",
              "    }\n",
              "\n",
              "    .colab-df-convert {\n",
              "      background-color: #E8F0FE;\n",
              "      border: none;\n",
              "      border-radius: 50%;\n",
              "      cursor: pointer;\n",
              "      display: none;\n",
              "      fill: #1967D2;\n",
              "      height: 32px;\n",
              "      padding: 0 0 0 0;\n",
              "      width: 32px;\n",
              "    }\n",
              "\n",
              "    .colab-df-convert:hover {\n",
              "      background-color: #E2EBFA;\n",
              "      box-shadow: 0px 1px 2px rgba(60, 64, 67, 0.3), 0px 1px 3px 1px rgba(60, 64, 67, 0.15);\n",
              "      fill: #174EA6;\n",
              "    }\n",
              "\n",
              "    [theme=dark] .colab-df-convert {\n",
              "      background-color: #3B4455;\n",
              "      fill: #D2E3FC;\n",
              "    }\n",
              "\n",
              "    [theme=dark] .colab-df-convert:hover {\n",
              "      background-color: #434B5C;\n",
              "      box-shadow: 0px 1px 3px 1px rgba(0, 0, 0, 0.15);\n",
              "      filter: drop-shadow(0px 1px 2px rgba(0, 0, 0, 0.3));\n",
              "      fill: #FFFFFF;\n",
              "    }\n",
              "  </style>\n",
              "\n",
              "      <script>\n",
              "        const buttonEl =\n",
              "          document.querySelector('#df-e8901d43-9b4f-4741-ad00-a5ab47765bd1 button.colab-df-convert');\n",
              "        buttonEl.style.display =\n",
              "          google.colab.kernel.accessAllowed ? 'block' : 'none';\n",
              "\n",
              "        async function convertToInteractive(key) {\n",
              "          const element = document.querySelector('#df-e8901d43-9b4f-4741-ad00-a5ab47765bd1');\n",
              "          const dataTable =\n",
              "            await google.colab.kernel.invokeFunction('convertToInteractive',\n",
              "                                                     [key], {});\n",
              "          if (!dataTable) return;\n",
              "\n",
              "          const docLinkHtml = 'Like what you see? Visit the ' +\n",
              "            '<a target=\"_blank\" href=https://colab.research.google.com/notebooks/data_table.ipynb>data table notebook</a>'\n",
              "            + ' to learn more about interactive tables.';\n",
              "          element.innerHTML = '';\n",
              "          dataTable['output_type'] = 'display_data';\n",
              "          await google.colab.output.renderOutput(dataTable, element);\n",
              "          const docLink = document.createElement('div');\n",
              "          docLink.innerHTML = docLinkHtml;\n",
              "          element.appendChild(docLink);\n",
              "        }\n",
              "      </script>\n",
              "    </div>\n",
              "  </div>\n",
              "  "
            ]
          },
          "metadata": {},
          "execution_count": 4
        }
      ]
    },
    {
      "cell_type": "code",
      "metadata": {
        "id": "9g4_cql61J5m"
      },
      "source": [
        "# Alumno, del dataset original cree uno nuevo pero\n",
        "# unicamente con las siguientes columnas:\n",
        "# Survived, Pclass, Sex, Age, SibSp, Parch\n",
        "df_clean = df.copy()\n",
        "df_clean.drop(['PassengerId', 'Name', 'Ticket', 'Fare', 'Cabin', 'Embarked'], axis='columns', inplace=True)"
      ],
      "execution_count": 5,
      "outputs": []
    },
    {
      "cell_type": "code",
      "metadata": {
        "id": "aPr3AkXM1DkO"
      },
      "source": [
        "# Alumno, en caso de encontrarse elementos faltantes,\n",
        "# elimine aquellas filas que tengan columnas vacias\n",
        "# Escriba el procedimiento tenga o no elementos faltantes\n",
        "df_clean = df_clean.dropna()"
      ],
      "execution_count": 6,
      "outputs": []
    },
    {
      "cell_type": "code",
      "metadata": {
        "id": "LirgXKpiy8dr",
        "colab": {
          "base_uri": "https://localhost:8080/"
        },
        "outputId": "ef37f3e2-cdbd-4839-cd7e-082584d398fd"
      },
      "source": [
        "# Alumno: Fin de la limpieza, especifique cuantas filas se poseen para analizar\n",
        "print('Quedan', df_clean.shape[0], 'filas para analizar.')"
      ],
      "execution_count": 7,
      "outputs": [
        {
          "output_type": "stream",
          "name": "stdout",
          "text": [
            "Quedan 714 filas para analizar.\n"
          ]
        }
      ]
    },
    {
      "cell_type": "markdown",
      "metadata": {
        "id": "0BnzYdlRzBxz"
      },
      "source": [
        "# Explorar datos\n",
        "<img src=\"https://raw.githubusercontent.com/InoveAlumnos/dataset_analytics_python/master/images/Pipeline3.png\" width=\"1000\" align=\"middle\">"
      ]
    },
    {
      "cell_type": "code",
      "metadata": {
        "id": "ujLgPJYo18IR",
        "colab": {
          "base_uri": "https://localhost:8080/",
          "height": 206
        },
        "outputId": "46182437-475d-400a-b563-96a4a77f9b1e"
      },
      "source": [
        "# Alumno, inspeccione el dataset, visualice las columnas que posee y sus primeras filas\n",
        "df_clean.head()"
      ],
      "execution_count": 8,
      "outputs": [
        {
          "output_type": "execute_result",
          "data": {
            "text/plain": [
              "   Survived  Pclass     Sex   Age  SibSp  Parch\n",
              "0         0       3    male  22.0      1      0\n",
              "1         1       1  female  38.0      1      0\n",
              "2         1       3  female  26.0      0      0\n",
              "3         1       1  female  35.0      1      0\n",
              "4         0       3    male  35.0      0      0"
            ],
            "text/html": [
              "\n",
              "  <div id=\"df-96b8760d-c623-4c67-b041-89f95444afe3\">\n",
              "    <div class=\"colab-df-container\">\n",
              "      <div>\n",
              "<style scoped>\n",
              "    .dataframe tbody tr th:only-of-type {\n",
              "        vertical-align: middle;\n",
              "    }\n",
              "\n",
              "    .dataframe tbody tr th {\n",
              "        vertical-align: top;\n",
              "    }\n",
              "\n",
              "    .dataframe thead th {\n",
              "        text-align: right;\n",
              "    }\n",
              "</style>\n",
              "<table border=\"1\" class=\"dataframe\">\n",
              "  <thead>\n",
              "    <tr style=\"text-align: right;\">\n",
              "      <th></th>\n",
              "      <th>Survived</th>\n",
              "      <th>Pclass</th>\n",
              "      <th>Sex</th>\n",
              "      <th>Age</th>\n",
              "      <th>SibSp</th>\n",
              "      <th>Parch</th>\n",
              "    </tr>\n",
              "  </thead>\n",
              "  <tbody>\n",
              "    <tr>\n",
              "      <th>0</th>\n",
              "      <td>0</td>\n",
              "      <td>3</td>\n",
              "      <td>male</td>\n",
              "      <td>22.0</td>\n",
              "      <td>1</td>\n",
              "      <td>0</td>\n",
              "    </tr>\n",
              "    <tr>\n",
              "      <th>1</th>\n",
              "      <td>1</td>\n",
              "      <td>1</td>\n",
              "      <td>female</td>\n",
              "      <td>38.0</td>\n",
              "      <td>1</td>\n",
              "      <td>0</td>\n",
              "    </tr>\n",
              "    <tr>\n",
              "      <th>2</th>\n",
              "      <td>1</td>\n",
              "      <td>3</td>\n",
              "      <td>female</td>\n",
              "      <td>26.0</td>\n",
              "      <td>0</td>\n",
              "      <td>0</td>\n",
              "    </tr>\n",
              "    <tr>\n",
              "      <th>3</th>\n",
              "      <td>1</td>\n",
              "      <td>1</td>\n",
              "      <td>female</td>\n",
              "      <td>35.0</td>\n",
              "      <td>1</td>\n",
              "      <td>0</td>\n",
              "    </tr>\n",
              "    <tr>\n",
              "      <th>4</th>\n",
              "      <td>0</td>\n",
              "      <td>3</td>\n",
              "      <td>male</td>\n",
              "      <td>35.0</td>\n",
              "      <td>0</td>\n",
              "      <td>0</td>\n",
              "    </tr>\n",
              "  </tbody>\n",
              "</table>\n",
              "</div>\n",
              "      <button class=\"colab-df-convert\" onclick=\"convertToInteractive('df-96b8760d-c623-4c67-b041-89f95444afe3')\"\n",
              "              title=\"Convert this dataframe to an interactive table.\"\n",
              "              style=\"display:none;\">\n",
              "        \n",
              "  <svg xmlns=\"http://www.w3.org/2000/svg\" height=\"24px\"viewBox=\"0 0 24 24\"\n",
              "       width=\"24px\">\n",
              "    <path d=\"M0 0h24v24H0V0z\" fill=\"none\"/>\n",
              "    <path d=\"M18.56 5.44l.94 2.06.94-2.06 2.06-.94-2.06-.94-.94-2.06-.94 2.06-2.06.94zm-11 1L8.5 8.5l.94-2.06 2.06-.94-2.06-.94L8.5 2.5l-.94 2.06-2.06.94zm10 10l.94 2.06.94-2.06 2.06-.94-2.06-.94-.94-2.06-.94 2.06-2.06.94z\"/><path d=\"M17.41 7.96l-1.37-1.37c-.4-.4-.92-.59-1.43-.59-.52 0-1.04.2-1.43.59L10.3 9.45l-7.72 7.72c-.78.78-.78 2.05 0 2.83L4 21.41c.39.39.9.59 1.41.59.51 0 1.02-.2 1.41-.59l7.78-7.78 2.81-2.81c.8-.78.8-2.07 0-2.86zM5.41 20L4 18.59l7.72-7.72 1.47 1.35L5.41 20z\"/>\n",
              "  </svg>\n",
              "      </button>\n",
              "      \n",
              "  <style>\n",
              "    .colab-df-container {\n",
              "      display:flex;\n",
              "      flex-wrap:wrap;\n",
              "      gap: 12px;\n",
              "    }\n",
              "\n",
              "    .colab-df-convert {\n",
              "      background-color: #E8F0FE;\n",
              "      border: none;\n",
              "      border-radius: 50%;\n",
              "      cursor: pointer;\n",
              "      display: none;\n",
              "      fill: #1967D2;\n",
              "      height: 32px;\n",
              "      padding: 0 0 0 0;\n",
              "      width: 32px;\n",
              "    }\n",
              "\n",
              "    .colab-df-convert:hover {\n",
              "      background-color: #E2EBFA;\n",
              "      box-shadow: 0px 1px 2px rgba(60, 64, 67, 0.3), 0px 1px 3px 1px rgba(60, 64, 67, 0.15);\n",
              "      fill: #174EA6;\n",
              "    }\n",
              "\n",
              "    [theme=dark] .colab-df-convert {\n",
              "      background-color: #3B4455;\n",
              "      fill: #D2E3FC;\n",
              "    }\n",
              "\n",
              "    [theme=dark] .colab-df-convert:hover {\n",
              "      background-color: #434B5C;\n",
              "      box-shadow: 0px 1px 3px 1px rgba(0, 0, 0, 0.15);\n",
              "      filter: drop-shadow(0px 1px 2px rgba(0, 0, 0, 0.3));\n",
              "      fill: #FFFFFF;\n",
              "    }\n",
              "  </style>\n",
              "\n",
              "      <script>\n",
              "        const buttonEl =\n",
              "          document.querySelector('#df-96b8760d-c623-4c67-b041-89f95444afe3 button.colab-df-convert');\n",
              "        buttonEl.style.display =\n",
              "          google.colab.kernel.accessAllowed ? 'block' : 'none';\n",
              "\n",
              "        async function convertToInteractive(key) {\n",
              "          const element = document.querySelector('#df-96b8760d-c623-4c67-b041-89f95444afe3');\n",
              "          const dataTable =\n",
              "            await google.colab.kernel.invokeFunction('convertToInteractive',\n",
              "                                                     [key], {});\n",
              "          if (!dataTable) return;\n",
              "\n",
              "          const docLinkHtml = 'Like what you see? Visit the ' +\n",
              "            '<a target=\"_blank\" href=https://colab.research.google.com/notebooks/data_table.ipynb>data table notebook</a>'\n",
              "            + ' to learn more about interactive tables.';\n",
              "          element.innerHTML = '';\n",
              "          dataTable['output_type'] = 'display_data';\n",
              "          await google.colab.output.renderOutput(dataTable, element);\n",
              "          const docLink = document.createElement('div');\n",
              "          docLink.innerHTML = docLinkHtml;\n",
              "          element.appendChild(docLink);\n",
              "        }\n",
              "      </script>\n",
              "    </div>\n",
              "  </div>\n",
              "  "
            ]
          },
          "metadata": {},
          "execution_count": 8
        }
      ]
    },
    {
      "cell_type": "code",
      "metadata": {
        "id": "yH6oDykAzBMG",
        "colab": {
          "base_uri": "https://localhost:8080/"
        },
        "outputId": "10c0ce96-f17b-44d7-8898-7bb4d56051f1"
      },
      "source": [
        "# Alumno: Explorar que tan balanceado está el dataset,\n",
        "# determinar cuantas personas sobrivivieron o nó\n",
        "print(\"Sobrevivieron\", df_clean['Survived'].value_counts()[1],\"personas\")\n",
        "print(\"No Sobrevivieron\", df_clean['Survived'].value_counts()[0],\"personas\")"
      ],
      "execution_count": 9,
      "outputs": [
        {
          "output_type": "stream",
          "name": "stdout",
          "text": [
            "Sobrevivieron 290 personas\n",
            "No Sobrevivieron 424 personas\n"
          ]
        }
      ]
    },
    {
      "cell_type": "code",
      "metadata": {
        "id": "uPNDkywTzazk",
        "colab": {
          "base_uri": "https://localhost:8080/",
          "height": 472
        },
        "outputId": "68701443-893c-413c-b1ec-b8b2369b5cd9"
      },
      "source": [
        "# Alumno: Determinar cuantas personas sobrevivieron\n",
        "# diferenciando por género\n",
        "# Utilice el gráfico de seaborn countplot con hue=\"Sex\"\n",
        "sns.countplot(x='Survived', data=df_clean, hue=\"Sex\").set_title(\"Cantidad de (0)No Sobrevivientes (1)Sobrevivientes segun su genero \")\n",
        "plt.show()"
      ],
      "execution_count": 10,
      "outputs": [
        {
          "output_type": "display_data",
          "data": {
            "text/plain": [
              "<Figure size 640x480 with 1 Axes>"
            ],
            "image/png": "[encoded data removed]"
          },
          "metadata": {}
        }
      ]
    },
    {
      "cell_type": "code",
      "metadata": {
        "id": "WWbxZLQ5ytEP",
        "colab": {
          "base_uri": "https://localhost:8080/",
          "height": 472
        },
        "outputId": "21e0f458-e337-49ce-c5a8-e7d9887ac76f"
      },
      "source": [
        "# Alumno: Determinar cuantas personas había de cada clase\n",
        "# Utilice el gráfico de seaborn countplot\n",
        "sns.countplot(x='Pclass', data=df_clean).set_title(\"Cantidad de personas por clase \")\n",
        "plt.show()"
      ],
      "execution_count": 11,
      "outputs": [
        {
          "output_type": "display_data",
          "data": {
            "text/plain": [
              "<Figure size 640x480 with 1 Axes>"
            ],
            "image/png": "[encoded data removed]"
          },
          "metadata": {}
        }
      ]
    },
    {
      "cell_type": "code",
      "metadata": {
        "id": "aF9zLuKvzAx4",
        "colab": {
          "base_uri": "https://localhost:8080/",
          "height": 472
        },
        "outputId": "15c77555-9291-442d-89ed-f1a0f3a2d880"
      },
      "source": [
        "# Alumno: Determinar cuantas personas había de cada clase\n",
        "# diferenciando por género\n",
        "# Utilice el gráfico de seaborn countplot con hue=\"Sex\"\n",
        "sns.countplot(x='Pclass', data=df_clean, hue=\"Sex\").set_title(\"Cantidad de personas por clase segun su genero\")\n",
        "plt.show()"
      ],
      "execution_count": 12,
      "outputs": [
        {
          "output_type": "display_data",
          "data": {
            "text/plain": [
              "<Figure size 640x480 with 1 Axes>"
            ],
            "image/png": "[encoded data removed]"
          },
          "metadata": {}
        }
      ]
    },
    {
      "cell_type": "markdown",
      "metadata": {
        "id": "ZdfLMthm0yyY"
      },
      "source": [
        "#### Transformar variables categóricas texto a clases numeradas"
      ]
    },
    {
      "cell_type": "code",
      "metadata": {
        "id": "GJlDmX_F1ksA"
      },
      "source": [
        "from sklearn.preprocessing import LabelEncoder"
      ],
      "execution_count": 13,
      "outputs": []
    },
    {
      "cell_type": "code",
      "metadata": {
        "id": "F92KfUW_2CSB"
      },
      "source": [
        "# Alumno, cree un dataset df_cod como copia del que viene trabajando\n",
        "df_cod = df_clean.copy()"
      ],
      "execution_count": 14,
      "outputs": []
    },
    {
      "cell_type": "code",
      "metadata": {
        "id": "Lqa4Qq9dEGzr",
        "colab": {
          "base_uri": "https://localhost:8080/",
          "height": 206
        },
        "outputId": "4528b670-ee69-4847-a14a-2703fc484d9a"
      },
      "source": [
        "# Utiliza el LabelEncoder para codificar la columna Sex, remplazando\n",
        "# esa columna por la nueva en el dataset nuevo que acaba de generar\n",
        "# Recuerde conservar el encoder!\n",
        "le_sex = LabelEncoder()\n",
        "label_encoding = le_sex.fit_transform(df_cod['Sex'])\n",
        "df_cod['Sex'] = label_encoding\n",
        "df_cod.head()"
      ],
      "execution_count": 15,
      "outputs": [
        {
          "output_type": "execute_result",
          "data": {
            "text/plain": [
              "   Survived  Pclass  Sex   Age  SibSp  Parch\n",
              "0         0       3    1  22.0      1      0\n",
              "1         1       1    0  38.0      1      0\n",
              "2         1       3    0  26.0      0      0\n",
              "3         1       1    0  35.0      1      0\n",
              "4         0       3    1  35.0      0      0"
            ],
            "text/html": [
              "\n",
              "  <div id=\"df-85ec1fcc-7f83-4afb-b12f-1d0f3c953fff\">\n",
              "    <div class=\"colab-df-container\">\n",
              "      <div>\n",
              "<style scoped>\n",
              "    .dataframe tbody tr th:only-of-type {\n",
              "        vertical-align: middle;\n",
              "    }\n",
              "\n",
              "    .dataframe tbody tr th {\n",
              "        vertical-align: top;\n",
              "    }\n",
              "\n",
              "    .dataframe thead th {\n",
              "        text-align: right;\n",
              "    }\n",
              "</style>\n",
              "<table border=\"1\" class=\"dataframe\">\n",
              "  <thead>\n",
              "    <tr style=\"text-align: right;\">\n",
              "      <th></th>\n",
              "      <th>Survived</th>\n",
              "      <th>Pclass</th>\n",
              "      <th>Sex</th>\n",
              "      <th>Age</th>\n",
              "      <th>SibSp</th>\n",
              "      <th>Parch</th>\n",
              "    </tr>\n",
              "  </thead>\n",
              "  <tbody>\n",
              "    <tr>\n",
              "      <th>0</th>\n",
              "      <td>0</td>\n",
              "      <td>3</td>\n",
              "      <td>1</td>\n",
              "      <td>22.0</td>\n",
              "      <td>1</td>\n",
              "      <td>0</td>\n",
              "    </tr>\n",
              "    <tr>\n",
              "      <th>1</th>\n",
              "      <td>1</td>\n",
              "      <td>1</td>\n",
              "      <td>0</td>\n",
              "      <td>38.0</td>\n",
              "      <td>1</td>\n",
              "      <td>0</td>\n",
              "    </tr>\n",
              "    <tr>\n",
              "      <th>2</th>\n",
              "      <td>1</td>\n",
              "      <td>3</td>\n",
              "      <td>0</td>\n",
              "      <td>26.0</td>\n",
              "      <td>0</td>\n",
              "      <td>0</td>\n",
              "    </tr>\n",
              "    <tr>\n",
              "      <th>3</th>\n",
              "      <td>1</td>\n",
              "      <td>1</td>\n",
              "      <td>0</td>\n",
              "      <td>35.0</td>\n",
              "      <td>1</td>\n",
              "      <td>0</td>\n",
              "    </tr>\n",
              "    <tr>\n",
              "      <th>4</th>\n",
              "      <td>0</td>\n",
              "      <td>3</td>\n",
              "      <td>1</td>\n",
              "      <td>35.0</td>\n",
              "      <td>0</td>\n",
              "      <td>0</td>\n",
              "    </tr>\n",
              "  </tbody>\n",
              "</table>\n",
              "</div>\n",
              "      <button class=\"colab-df-convert\" onclick=\"convertToInteractive('df-85ec1fcc-7f83-4afb-b12f-1d0f3c953fff')\"\n",
              "              title=\"Convert this dataframe to an interactive table.\"\n",
              "              style=\"display:none;\">\n",
              "        \n",
              "  <svg xmlns=\"http://www.w3.org/2000/svg\" height=\"24px\"viewBox=\"0 0 24 24\"\n",
              "       width=\"24px\">\n",
              "    <path d=\"M0 0h24v24H0V0z\" fill=\"none\"/>\n",
              "    <path d=\"M18.56 5.44l.94 2.06.94-2.06 2.06-.94-2.06-.94-.94-2.06-.94 2.06-2.06.94zm-11 1L8.5 8.5l.94-2.06 2.06-.94-2.06-.94L8.5 2.5l-.94 2.06-2.06.94zm10 10l.94 2.06.94-2.06 2.06-.94-2.06-.94-.94-2.06-.94 2.06-2.06.94z\"/><path d=\"M17.41 7.96l-1.37-1.37c-.4-.4-.92-.59-1.43-.59-.52 0-1.04.2-1.43.59L10.3 9.45l-7.72 7.72c-.78.78-.78 2.05 0 2.83L4 21.41c.39.39.9.59 1.41.59.51 0 1.02-.2 1.41-.59l7.78-7.78 2.81-2.81c.8-.78.8-2.07 0-2.86zM5.41 20L4 18.59l7.72-7.72 1.47 1.35L5.41 20z\"/>\n",
              "  </svg>\n",
              "      </button>\n",
              "      \n",
              "  <style>\n",
              "    .colab-df-container {\n",
              "      display:flex;\n",
              "      flex-wrap:wrap;\n",
              "      gap: 12px;\n",
              "    }\n",
              "\n",
              "    .colab-df-convert {\n",
              "      background-color: #E8F0FE;\n",
              "      border: none;\n",
              "      border-radius: 50%;\n",
              "      cursor: pointer;\n",
              "      display: none;\n",
              "      fill: #1967D2;\n",
              "      height: 32px;\n",
              "      padding: 0 0 0 0;\n",
              "      width: 32px;\n",
              "    }\n",
              "\n",
              "    .colab-df-convert:hover {\n",
              "      background-color: #E2EBFA;\n",
              "      box-shadow: 0px 1px 2px rgba(60, 64, 67, 0.3), 0px 1px 3px 1px rgba(60, 64, 67, 0.15);\n",
              "      fill: #174EA6;\n",
              "    }\n",
              "\n",
              "    [theme=dark] .colab-df-convert {\n",
              "      background-color: #3B4455;\n",
              "      fill: #D2E3FC;\n",
              "    }\n",
              "\n",
              "    [theme=dark] .colab-df-convert:hover {\n",
              "      background-color: #434B5C;\n",
              "      box-shadow: 0px 1px 3px 1px rgba(0, 0, 0, 0.15);\n",
              "      filter: drop-shadow(0px 1px 2px rgba(0, 0, 0, 0.3));\n",
              "      fill: #FFFFFF;\n",
              "    }\n",
              "  </style>\n",
              "\n",
              "      <script>\n",
              "        const buttonEl =\n",
              "          document.querySelector('#df-85ec1fcc-7f83-4afb-b12f-1d0f3c953fff button.colab-df-convert');\n",
              "        buttonEl.style.display =\n",
              "          google.colab.kernel.accessAllowed ? 'block' : 'none';\n",
              "\n",
              "        async function convertToInteractive(key) {\n",
              "          const element = document.querySelector('#df-85ec1fcc-7f83-4afb-b12f-1d0f3c953fff');\n",
              "          const dataTable =\n",
              "            await google.colab.kernel.invokeFunction('convertToInteractive',\n",
              "                                                     [key], {});\n",
              "          if (!dataTable) return;\n",
              "\n",
              "          const docLinkHtml = 'Like what you see? Visit the ' +\n",
              "            '<a target=\"_blank\" href=https://colab.research.google.com/notebooks/data_table.ipynb>data table notebook</a>'\n",
              "            + ' to learn more about interactive tables.';\n",
              "          element.innerHTML = '';\n",
              "          dataTable['output_type'] = 'display_data';\n",
              "          await google.colab.output.renderOutput(dataTable, element);\n",
              "          const docLink = document.createElement('div');\n",
              "          docLink.innerHTML = docLinkHtml;\n",
              "          element.appendChild(docLink);\n",
              "        }\n",
              "      </script>\n",
              "    </div>\n",
              "  </div>\n",
              "  "
            ]
          },
          "metadata": {},
          "execution_count": 15
        }
      ]
    },
    {
      "cell_type": "code",
      "metadata": {
        "id": "WNnJf9vG2dad",
        "colab": {
          "base_uri": "https://localhost:8080/"
        },
        "outputId": "357a5dbf-4c07-404e-d979-2e812a5d453c"
      },
      "source": [
        "# Alumno,  imprimir las clases que ha detectado su encoder\n",
        "# (debe llamar al atributo classes_)\n",
        "le_sex.classes_"
      ],
      "execution_count": 16,
      "outputs": [
        {
          "output_type": "execute_result",
          "data": {
            "text/plain": [
              "array(['female', 'male'], dtype=object)"
            ]
          },
          "metadata": {},
          "execution_count": 16
        }
      ]
    },
    {
      "cell_type": "code",
      "metadata": {
        "id": "MoTnc2ayGzha",
        "colab": {
          "base_uri": "https://localhost:8080/",
          "height": 506
        },
        "outputId": "18f1c813-d898-4690-a442-26f2310cee2e"
      },
      "source": [
        "# Alumno: Analizar la distribución de la edad\n",
        "sns.displot(data=df_cod, x='Age')\n",
        "plt.show()"
      ],
      "execution_count": 17,
      "outputs": [
        {
          "output_type": "display_data",
          "data": {
            "text/plain": [
              "<Figure size 500x500 with 1 Axes>"
            ],
            "image/png": "[encoded data removed]"
          },
          "metadata": {}
        }
      ]
    },
    {
      "cell_type": "code",
      "metadata": {
        "id": "Q1pO_7A_HsqA"
      },
      "source": [
        "# Alumno, cree un dataset df_norm como copia del que viene trabajando\n",
        "df_norm = df_cod.copy()\n"
      ],
      "execution_count": 18,
      "outputs": []
    },
    {
      "cell_type": "code",
      "metadata": {
        "id": "55eENaMEHKxA",
        "colab": {
          "base_uri": "https://localhost:8080/",
          "height": 206
        },
        "outputId": "f757b48e-6d84-447a-e4be-8e822eeedfad"
      },
      "source": [
        "# Alumno: utilizar StandarScaler para normalizar la column de \"Age\"\n",
        "# Conservar el scaler que lo necesitará para el final\n",
        "from sklearn.preprocessing import StandardScaler\n",
        "Age_scaler = StandardScaler()\n",
        "df_norm.loc[:, 'Age'] = Age_scaler.fit_transform(df_norm[['Age']].values)\n",
        "df_norm.head()"
      ],
      "execution_count": 19,
      "outputs": [
        {
          "output_type": "execute_result",
          "data": {
            "text/plain": [
              "   Survived  Pclass  Sex       Age  SibSp  Parch\n",
              "0         0       3    1 -0.530377      1      0\n",
              "1         1       1    0  0.571831      1      0\n",
              "2         1       3    0 -0.254825      0      0\n",
              "3         1       1    0  0.365167      1      0\n",
              "4         0       3    1  0.365167      0      0"
            ],
            "text/html": [
              "\n",
              "  <div id=\"df-4e39dd94-d072-4d25-90d7-7f4f9efbdb16\">\n",
              "    <div class=\"colab-df-container\">\n",
              "      <div>\n",
              "<style scoped>\n",
              "    .dataframe tbody tr th:only-of-type {\n",
              "        vertical-align: middle;\n",
              "    }\n",
              "\n",
              "    .dataframe tbody tr th {\n",
              "        vertical-align: top;\n",
              "    }\n",
              "\n",
              "    .dataframe thead th {\n",
              "        text-align: right;\n",
              "    }\n",
              "</style>\n",
              "<table border=\"1\" class=\"dataframe\">\n",
              "  <thead>\n",
              "    <tr style=\"text-align: right;\">\n",
              "      <th></th>\n",
              "      <th>Survived</th>\n",
              "      <th>Pclass</th>\n",
              "      <th>Sex</th>\n",
              "      <th>Age</th>\n",
              "      <th>SibSp</th>\n",
              "      <th>Parch</th>\n",
              "    </tr>\n",
              "  </thead>\n",
              "  <tbody>\n",
              "    <tr>\n",
              "      <th>0</th>\n",
              "      <td>0</td>\n",
              "      <td>3</td>\n",
              "      <td>1</td>\n",
              "      <td>-0.530377</td>\n",
              "      <td>1</td>\n",
              "      <td>0</td>\n",
              "    </tr>\n",
              "    <tr>\n",
              "      <th>1</th>\n",
              "      <td>1</td>\n",
              "      <td>1</td>\n",
              "      <td>0</td>\n",
              "      <td>0.571831</td>\n",
              "      <td>1</td>\n",
              "      <td>0</td>\n",
              "    </tr>\n",
              "    <tr>\n",
              "      <th>2</th>\n",
              "      <td>1</td>\n",
              "      <td>3</td>\n",
              "      <td>0</td>\n",
              "      <td>-0.254825</td>\n",
              "      <td>0</td>\n",
              "      <td>0</td>\n",
              "    </tr>\n",
              "    <tr>\n",
              "      <th>3</th>\n",
              "      <td>1</td>\n",
              "      <td>1</td>\n",
              "      <td>0</td>\n",
              "      <td>0.365167</td>\n",
              "      <td>1</td>\n",
              "      <td>0</td>\n",
              "    </tr>\n",
              "    <tr>\n",
              "      <th>4</th>\n",
              "      <td>0</td>\n",
              "      <td>3</td>\n",
              "      <td>1</td>\n",
              "      <td>0.365167</td>\n",
              "      <td>0</td>\n",
              "      <td>0</td>\n",
              "    </tr>\n",
              "  </tbody>\n",
              "</table>\n",
              "</div>\n",
              "      <button class=\"colab-df-convert\" onclick=\"convertToInteractive('df-4e39dd94-d072-4d25-90d7-7f4f9efbdb16')\"\n",
              "              title=\"Convert this dataframe to an interactive table.\"\n",
              "              style=\"display:none;\">\n",
              "        \n",
              "  <svg xmlns=\"http://www.w3.org/2000/svg\" height=\"24px\"viewBox=\"0 0 24 24\"\n",
              "       width=\"24px\">\n",
              "    <path d=\"M0 0h24v24H0V0z\" fill=\"none\"/>\n",
              "    <path d=\"M18.56 5.44l.94 2.06.94-2.06 2.06-.94-2.06-.94-.94-2.06-.94 2.06-2.06.94zm-11 1L8.5 8.5l.94-2.06 2.06-.94-2.06-.94L8.5 2.5l-.94 2.06-2.06.94zm10 10l.94 2.06.94-2.06 2.06-.94-2.06-.94-.94-2.06-.94 2.06-2.06.94z\"/><path d=\"M17.41 7.96l-1.37-1.37c-.4-.4-.92-.59-1.43-.59-.52 0-1.04.2-1.43.59L10.3 9.45l-7.72 7.72c-.78.78-.78 2.05 0 2.83L4 21.41c.39.39.9.59 1.41.59.51 0 1.02-.2 1.41-.59l7.78-7.78 2.81-2.81c.8-.78.8-2.07 0-2.86zM5.41 20L4 18.59l7.72-7.72 1.47 1.35L5.41 20z\"/>\n",
              "  </svg>\n",
              "      </button>\n",
              "      \n",
              "  <style>\n",
              "    .colab-df-container {\n",
              "      display:flex;\n",
              "      flex-wrap:wrap;\n",
              "      gap: 12px;\n",
              "    }\n",
              "\n",
              "    .colab-df-convert {\n",
              "      background-color: #E8F0FE;\n",
              "      border: none;\n",
              "      border-radius: 50%;\n",
              "      cursor: pointer;\n",
              "      display: none;\n",
              "      fill: #1967D2;\n",
              "      height: 32px;\n",
              "      padding: 0 0 0 0;\n",
              "      width: 32px;\n",
              "    }\n",
              "\n",
              "    .colab-df-convert:hover {\n",
              "      background-color: #E2EBFA;\n",
              "      box-shadow: 0px 1px 2px rgba(60, 64, 67, 0.3), 0px 1px 3px 1px rgba(60, 64, 67, 0.15);\n",
              "      fill: #174EA6;\n",
              "    }\n",
              "\n",
              "    [theme=dark] .colab-df-convert {\n",
              "      background-color: #3B4455;\n",
              "      fill: #D2E3FC;\n",
              "    }\n",
              "\n",
              "    [theme=dark] .colab-df-convert:hover {\n",
              "      background-color: #434B5C;\n",
              "      box-shadow: 0px 1px 3px 1px rgba(0, 0, 0, 0.15);\n",
              "      filter: drop-shadow(0px 1px 2px rgba(0, 0, 0, 0.3));\n",
              "      fill: #FFFFFF;\n",
              "    }\n",
              "  </style>\n",
              "\n",
              "      <script>\n",
              "        const buttonEl =\n",
              "          document.querySelector('#df-4e39dd94-d072-4d25-90d7-7f4f9efbdb16 button.colab-df-convert');\n",
              "        buttonEl.style.display =\n",
              "          google.colab.kernel.accessAllowed ? 'block' : 'none';\n",
              "\n",
              "        async function convertToInteractive(key) {\n",
              "          const element = document.querySelector('#df-4e39dd94-d072-4d25-90d7-7f4f9efbdb16');\n",
              "          const dataTable =\n",
              "            await google.colab.kernel.invokeFunction('convertToInteractive',\n",
              "                                                     [key], {});\n",
              "          if (!dataTable) return;\n",
              "\n",
              "          const docLinkHtml = 'Like what you see? Visit the ' +\n",
              "            '<a target=\"_blank\" href=https://colab.research.google.com/notebooks/data_table.ipynb>data table notebook</a>'\n",
              "            + ' to learn more about interactive tables.';\n",
              "          element.innerHTML = '';\n",
              "          dataTable['output_type'] = 'display_data';\n",
              "          await google.colab.output.renderOutput(dataTable, element);\n",
              "          const docLink = document.createElement('div');\n",
              "          docLink.innerHTML = docLinkHtml;\n",
              "          element.appendChild(docLink);\n",
              "        }\n",
              "      </script>\n",
              "    </div>\n",
              "  </div>\n",
              "  "
            ]
          },
          "metadata": {},
          "execution_count": 19
        }
      ]
    },
    {
      "cell_type": "markdown",
      "metadata": {
        "id": "7z_SuZlj3gbQ"
      },
      "source": [
        "# Entrenar modelo\n",
        "<img src=\"https://raw.githubusercontent.com/InoveAlumnos/dataset_analytics_python/master/images/Pipeline4.png\" width=\"1000\" align=\"middle\">"
      ]
    },
    {
      "cell_type": "markdown",
      "metadata": {
        "id": "ntY84fHj3q5q"
      },
      "source": [
        "El primer paso es obtener los datos que serán la entrada del sistema (X) y los datos que serán la salida del modelo estimador (y)"
      ]
    },
    {
      "cell_type": "code",
      "metadata": {
        "id": "EIg2_OQ43fqZ"
      },
      "source": [
        "# Alumno: genere un numpy array \"X\" que posea todos los feutres (todo menos Survived)\n",
        "# genere un array numpy \"y\" de solo la columna Survived\n",
        "X = df_norm.drop('Survived', axis=1).values\n",
        "y = df_norm['Survived'].values"
      ],
      "execution_count": 39,
      "outputs": []
    },
    {
      "cell_type": "code",
      "metadata": {
        "id": "80EhnBgTJAiU",
        "colab": {
          "base_uri": "https://localhost:8080/"
        },
        "outputId": "2ef7692c-2627-44f5-9553-a231e9c14ace"
      },
      "source": [
        "# Alumno: obtener la cantidad de features (cantidad de columnas)\n",
        "# y almacenar en in_shape\n",
        "in_shape = X.shape[1] \n",
        "in_shape"
      ],
      "execution_count": 40,
      "outputs": [
        {
          "output_type": "execute_result",
          "data": {
            "text/plain": [
              "5"
            ]
          },
          "metadata": {},
          "execution_count": 40
        }
      ]
    },
    {
      "cell_type": "code",
      "metadata": {
        "id": "bW7yowUVJI0v"
      },
      "source": [
        "# Alumno: crear una variable out_shape indicando cuandas neuronas de salida desea\n",
        "out_shape = 1"
      ],
      "execution_count": 41,
      "outputs": []
    },
    {
      "cell_type": "markdown",
      "metadata": {
        "id": "sbr-SnON4LuM"
      },
      "source": [
        "Siguiente paso es dividir el dataset en entrenamiento (train) y evaluación (test). Utilizaremos el criterio 80%20%"
      ]
    },
    {
      "cell_type": "code",
      "metadata": {
        "id": "BVD4YkjS4MW2"
      },
      "source": [
        "# Alumno, generar los dataset de train y test superando en 80%20%\n",
        "from sklearn.model_selection import train_test_split\n",
        "X_train, X_test, y_train, y_test = train_test_split(X, y, test_size=0.2, random_state=42)"
      ],
      "execution_count": 95,
      "outputs": []
    },
    {
      "cell_type": "code",
      "metadata": {
        "id": "ZRw2jgPl4Xuc"
      },
      "source": [
        "from keras.layers import Dense\n",
        "# Alumno: crear un modelo secuencial de dos capas (hidden y output).\n",
        "# Coloque correctamente el valor de in_shape y out_shape en el modelo\n",
        "# pero seleccione por su cuenta la cantidad de neuronas en la capa oculta\n",
        "model = Sequential()\n",
        "model.add(Dense(units=50, activation='sigmoid', input_shape=(in_shape,)))\n",
        "model.add(Dense(units=out_shape, activation='sigmoid'))"
      ],
      "execution_count": 96,
      "outputs": []
    },
    {
      "cell_type": "code",
      "metadata": {
        "id": "BzH_dPq7K8yU"
      },
      "source": [
        "# Alumno: compilar el modelo con binary_crossentropy y métrica de \"accuracy\"\n",
        "model.compile(optimizer=tf.keras.optimizers.Adam(learning_rate=0.005),\n",
        "              loss='binary_crossentropy',\n",
        "              metrics=['accuracy'])\n",
        " "
      ],
      "execution_count": 97,
      "outputs": []
    },
    {
      "cell_type": "code",
      "metadata": {
        "id": "P1q1Z7voLPYb",
        "colab": {
          "base_uri": "https://localhost:8080/"
        },
        "outputId": "5746c354-4138-490c-b984-2428610aca55"
      },
      "source": [
        "# Alumno: entrenar el modelo, seleccionar un 20% para el dataset de validacion\n",
        "# Queda a su gusto seleccionar la cantidad de épocas\n",
        "# Almacenar la salida del fit en una variable \"history\"\n",
        "history = model.fit(X_train, y_train, validation_split=0.2 , epochs=50, batch_size=32)"
      ],
      "execution_count": 98,
      "outputs": [
        {
          "output_type": "stream",
          "name": "stdout",
          "text": [
            "Epoch 1/50\n",
            "15/15 [==============================] - 1s 15ms/step - loss: 0.6746 - accuracy: 0.5855 - val_loss: 0.6934 - val_accuracy: 0.5478\n",
            "Epoch 2/50\n",
            "15/15 [==============================] - 0s 6ms/step - loss: 0.6359 - accuracy: 0.6338 - val_loss: 0.6510 - val_accuracy: 0.6087\n",
            "Epoch 3/50\n",
            "15/15 [==============================] - 0s 6ms/step - loss: 0.6090 - accuracy: 0.6491 - val_loss: 0.6392 - val_accuracy: 0.6261\n",
            "Epoch 4/50\n",
            "15/15 [==============================] - 0s 5ms/step - loss: 0.5870 - accuracy: 0.6754 - val_loss: 0.6146 - val_accuracy: 0.6609\n",
            "Epoch 5/50\n",
            "15/15 [==============================] - 0s 6ms/step - loss: 0.5660 - accuracy: 0.7346 - val_loss: 0.5951 - val_accuracy: 0.6957\n",
            "Epoch 6/50\n",
            "15/15 [==============================] - 0s 5ms/step - loss: 0.5447 - accuracy: 0.7654 - val_loss: 0.5720 - val_accuracy: 0.7217\n",
            "Epoch 7/50\n",
            "15/15 [==============================] - 0s 5ms/step - loss: 0.5251 - accuracy: 0.7785 - val_loss: 0.5527 - val_accuracy: 0.7391\n",
            "Epoch 8/50\n",
            "15/15 [==============================] - 0s 6ms/step - loss: 0.5085 - accuracy: 0.7917 - val_loss: 0.5397 - val_accuracy: 0.7565\n",
            "Epoch 9/50\n",
            "15/15 [==============================] - 0s 5ms/step - loss: 0.4905 - accuracy: 0.8026 - val_loss: 0.5280 - val_accuracy: 0.7478\n",
            "Epoch 10/50\n",
            "15/15 [==============================] - 0s 7ms/step - loss: 0.4819 - accuracy: 0.8136 - val_loss: 0.5179 - val_accuracy: 0.7565\n",
            "Epoch 11/50\n",
            "15/15 [==============================] - 0s 6ms/step - loss: 0.4734 - accuracy: 0.8092 - val_loss: 0.5119 - val_accuracy: 0.7652\n",
            "Epoch 12/50\n",
            "15/15 [==============================] - 0s 6ms/step - loss: 0.4553 - accuracy: 0.8268 - val_loss: 0.4958 - val_accuracy: 0.7739\n",
            "Epoch 13/50\n",
            "15/15 [==============================] - 0s 6ms/step - loss: 0.4495 - accuracy: 0.8092 - val_loss: 0.4892 - val_accuracy: 0.7739\n",
            "Epoch 14/50\n",
            "15/15 [==============================] - 0s 6ms/step - loss: 0.4469 - accuracy: 0.8224 - val_loss: 0.4868 - val_accuracy: 0.7826\n",
            "Epoch 15/50\n",
            "15/15 [==============================] - 0s 6ms/step - loss: 0.4378 - accuracy: 0.8114 - val_loss: 0.4793 - val_accuracy: 0.7739\n",
            "Epoch 16/50\n",
            "15/15 [==============================] - 0s 5ms/step - loss: 0.4353 - accuracy: 0.8114 - val_loss: 0.4794 - val_accuracy: 0.7826\n",
            "Epoch 17/50\n",
            "15/15 [==============================] - 0s 5ms/step - loss: 0.4309 - accuracy: 0.8092 - val_loss: 0.4752 - val_accuracy: 0.7913\n",
            "Epoch 18/50\n",
            "15/15 [==============================] - 0s 6ms/step - loss: 0.4313 - accuracy: 0.8092 - val_loss: 0.4721 - val_accuracy: 0.7913\n",
            "Epoch 19/50\n",
            "15/15 [==============================] - 0s 5ms/step - loss: 0.4271 - accuracy: 0.8114 - val_loss: 0.4720 - val_accuracy: 0.7913\n",
            "Epoch 20/50\n",
            "15/15 [==============================] - 0s 6ms/step - loss: 0.4251 - accuracy: 0.8048 - val_loss: 0.4720 - val_accuracy: 0.7913\n",
            "Epoch 21/50\n",
            "15/15 [==============================] - 0s 6ms/step - loss: 0.4244 - accuracy: 0.8180 - val_loss: 0.4729 - val_accuracy: 0.7913\n",
            "Epoch 22/50\n",
            "15/15 [==============================] - 0s 6ms/step - loss: 0.4231 - accuracy: 0.8048 - val_loss: 0.4699 - val_accuracy: 0.7913\n",
            "Epoch 23/50\n",
            "15/15 [==============================] - 0s 6ms/step - loss: 0.4226 - accuracy: 0.8092 - val_loss: 0.4784 - val_accuracy: 0.7913\n",
            "Epoch 24/50\n",
            "15/15 [==============================] - 0s 6ms/step - loss: 0.4217 - accuracy: 0.8070 - val_loss: 0.4625 - val_accuracy: 0.8087\n",
            "Epoch 25/50\n",
            "15/15 [==============================] - 0s 5ms/step - loss: 0.4197 - accuracy: 0.8114 - val_loss: 0.4745 - val_accuracy: 0.8000\n",
            "Epoch 26/50\n",
            "15/15 [==============================] - 0s 6ms/step - loss: 0.4200 - accuracy: 0.8070 - val_loss: 0.4669 - val_accuracy: 0.7913\n",
            "Epoch 27/50\n",
            "15/15 [==============================] - 0s 5ms/step - loss: 0.4185 - accuracy: 0.8114 - val_loss: 0.4728 - val_accuracy: 0.8000\n",
            "Epoch 28/50\n",
            "15/15 [==============================] - 0s 6ms/step - loss: 0.4276 - accuracy: 0.8114 - val_loss: 0.4657 - val_accuracy: 0.8087\n",
            "Epoch 29/50\n",
            "15/15 [==============================] - 0s 6ms/step - loss: 0.4191 - accuracy: 0.8158 - val_loss: 0.4688 - val_accuracy: 0.8000\n",
            "Epoch 30/50\n",
            "15/15 [==============================] - 0s 5ms/step - loss: 0.4189 - accuracy: 0.8136 - val_loss: 0.4690 - val_accuracy: 0.8087\n",
            "Epoch 31/50\n",
            "15/15 [==============================] - 0s 6ms/step - loss: 0.4180 - accuracy: 0.8180 - val_loss: 0.4626 - val_accuracy: 0.8087\n",
            "Epoch 32/50\n",
            "15/15 [==============================] - 0s 9ms/step - loss: 0.4176 - accuracy: 0.8048 - val_loss: 0.4716 - val_accuracy: 0.8000\n",
            "Epoch 33/50\n",
            "15/15 [==============================] - 0s 8ms/step - loss: 0.4160 - accuracy: 0.8180 - val_loss: 0.4588 - val_accuracy: 0.8174\n",
            "Epoch 34/50\n",
            "15/15 [==============================] - 0s 8ms/step - loss: 0.4168 - accuracy: 0.8246 - val_loss: 0.4673 - val_accuracy: 0.8174\n",
            "Epoch 35/50\n",
            "15/15 [==============================] - 0s 7ms/step - loss: 0.4160 - accuracy: 0.8136 - val_loss: 0.4684 - val_accuracy: 0.8000\n",
            "Epoch 36/50\n",
            "15/15 [==============================] - 0s 8ms/step - loss: 0.4149 - accuracy: 0.8202 - val_loss: 0.4634 - val_accuracy: 0.8087\n",
            "Epoch 37/50\n",
            "15/15 [==============================] - 0s 8ms/step - loss: 0.4200 - accuracy: 0.8224 - val_loss: 0.4620 - val_accuracy: 0.8174\n",
            "Epoch 38/50\n",
            "15/15 [==============================] - 0s 8ms/step - loss: 0.4233 - accuracy: 0.8114 - val_loss: 0.4621 - val_accuracy: 0.8174\n",
            "Epoch 39/50\n",
            "15/15 [==============================] - 0s 8ms/step - loss: 0.4171 - accuracy: 0.8158 - val_loss: 0.4624 - val_accuracy: 0.8000\n",
            "Epoch 40/50\n",
            "15/15 [==============================] - 0s 8ms/step - loss: 0.4142 - accuracy: 0.8180 - val_loss: 0.4555 - val_accuracy: 0.8087\n",
            "Epoch 41/50\n",
            "15/15 [==============================] - 0s 9ms/step - loss: 0.4183 - accuracy: 0.8202 - val_loss: 0.4590 - val_accuracy: 0.8174\n",
            "Epoch 42/50\n",
            "15/15 [==============================] - 0s 8ms/step - loss: 0.4173 - accuracy: 0.8136 - val_loss: 0.4638 - val_accuracy: 0.8000\n",
            "Epoch 43/50\n",
            "15/15 [==============================] - 0s 8ms/step - loss: 0.4130 - accuracy: 0.8180 - val_loss: 0.4582 - val_accuracy: 0.8261\n",
            "Epoch 44/50\n",
            "15/15 [==============================] - 0s 8ms/step - loss: 0.4131 - accuracy: 0.8246 - val_loss: 0.4599 - val_accuracy: 0.8000\n",
            "Epoch 45/50\n",
            "15/15 [==============================] - 0s 8ms/step - loss: 0.4120 - accuracy: 0.8246 - val_loss: 0.4551 - val_accuracy: 0.8261\n",
            "Epoch 46/50\n",
            "15/15 [==============================] - 0s 8ms/step - loss: 0.4112 - accuracy: 0.8224 - val_loss: 0.4577 - val_accuracy: 0.8174\n",
            "Epoch 47/50\n",
            "15/15 [==============================] - 0s 8ms/step - loss: 0.4106 - accuracy: 0.8246 - val_loss: 0.4600 - val_accuracy: 0.8174\n",
            "Epoch 48/50\n",
            "15/15 [==============================] - 0s 8ms/step - loss: 0.4119 - accuracy: 0.8224 - val_loss: 0.4716 - val_accuracy: 0.8087\n",
            "Epoch 49/50\n",
            "15/15 [==============================] - 0s 8ms/step - loss: 0.4113 - accuracy: 0.8246 - val_loss: 0.4557 - val_accuracy: 0.8174\n",
            "Epoch 50/50\n",
            "15/15 [==============================] - 0s 5ms/step - loss: 0.4094 - accuracy: 0.8289 - val_loss: 0.4588 - val_accuracy: 0.8174\n"
          ]
        }
      ]
    },
    {
      "cell_type": "code",
      "metadata": {
        "id": "12SHo7bDLpHk",
        "colab": {
          "base_uri": "https://localhost:8080/",
          "height": 430
        },
        "outputId": "80da17bf-7b3c-4194-dd22-883cc7fcc551"
      },
      "source": [
        "# Alumno: Graficar la evolución del accuracy durante el entrenamiento\n",
        "# tanto para el dataset de train y el de valid en un gráfico\n",
        "# plot line\n",
        "epocas_conteo= range(1, len(history.history['accuracy']) + 1)\n",
        "sns.lineplot(x=epocas_conteo,  y=history.history['accuracy'], label='train')\n",
        "sns.lineplot(x=epocas_conteo,  y=history.history['val_accuracy'], label='valid')\n",
        "plt.show()"
      ],
      "execution_count": 99,
      "outputs": [
        {
          "output_type": "display_data",
          "data": {
            "text/plain": [
              "<Figure size 640x480 with 1 Axes>"
            ],
            "image/png": "[encoded data removed]"
          },
          "metadata": {}
        }
      ]
    },
    {
      "cell_type": "code",
      "metadata": {
        "id": "rMuNNR9HL97_",
        "colab": {
          "base_uri": "https://localhost:8080/"
        },
        "outputId": "50879df6-87b7-41d6-fafb-eff6b4968114"
      },
      "source": [
        "# Alumno: obtener la probabilidad de sobreviir (y_hat_prob)\n",
        "# realizando una prediccion (predict) con el dataset de test\n",
        "y_hat_prob = model.predict(X_test)"
      ],
      "execution_count": 100,
      "outputs": [
        {
          "output_type": "stream",
          "name": "stdout",
          "text": [
            "5/5 [==============================] - 0s 2ms/step\n"
          ]
        }
      ]
    },
    {
      "cell_type": "code",
      "metadata": {
        "id": "MiLJQi_gMIsS"
      },
      "source": [
        "# Alumno: transformar las probabilidads en 0 y 1, si la probabilidad es\n",
        "# mayor o igual a 0.5 definir que la persona sobrevivió (1)\n",
        "# Estos valores guardarlos en y_hat\n",
        "y_hat = [1 if x >= 0.5 else 0 for x in y_hat_prob]"
      ],
      "execution_count": 101,
      "outputs": []
    },
    {
      "cell_type": "markdown",
      "metadata": {
        "id": "w3IfjUuI4XnD"
      },
      "source": [
        "# Validar modelo\n",
        "<img src=\"https://raw.githubusercontent.com/InoveAlumnos/dataset_analytics_python/master/images/Pipeline5.png\" width=\"1000\" align=\"middle\">"
      ]
    },
    {
      "cell_type": "code",
      "metadata": {
        "id": "CMKONtv55zL8",
        "colab": {
          "base_uri": "https://localhost:8080/"
        },
        "outputId": "e083c7be-f88e-4548-e708-1f4703e34e9c"
      },
      "source": [
        "# Alumno, calcular la exactitud (accuracy) de su modelo\n",
        "scores = model.evaluate(X_test, y_test)\n",
        "scores[1]\n",
        "\n",
        "from sklearn.metrics import accuracy_score\n",
        "accuracy_score(y_test, y_hat, normalize=True)\n"
      ],
      "execution_count": 102,
      "outputs": [
        {
          "output_type": "stream",
          "name": "stdout",
          "text": [
            "5/5 [==============================] - 0s 3ms/step - loss: 0.4909 - accuracy: 0.7692\n"
          ]
        },
        {
          "output_type": "execute_result",
          "data": {
            "text/plain": [
              "0.7692307692307693"
            ]
          },
          "metadata": {},
          "execution_count": 102
        }
      ]
    },
    {
      "cell_type": "code",
      "metadata": {
        "id": "TeLeYLYz6ZhO",
        "colab": {
          "base_uri": "https://localhost:8080/",
          "height": 449
        },
        "outputId": "d958fe3b-abad-4eb5-c552-fd3a251ec832"
      },
      "source": [
        "# Alumno, dibujar la matriz de confusion\n",
        "# definir display_labels=['NO SOBREVIVE', 'SOBREVIVE']\n",
        "from sklearn.metrics import confusion_matrix, ConfusionMatrixDisplay\n",
        "cm = confusion_matrix(y_test, y_hat)\n",
        "cmd = ConfusionMatrixDisplay(cm, display_labels=['NO SOBREVIVE', 'SOBREVIVE'])\n",
        "cmd.plot(cmap=plt.cm.Greens)\n",
        "plt.show()"
      ],
      "execution_count": 104,
      "outputs": [
        {
          "output_type": "display_data",
          "data": {
            "text/plain": [
              "<Figure size 640x480 with 2 Axes>"
            ],
            "image/png": "[encoded data removed]"
          },
          "metadata": {}
        }
      ]
    },
    {
      "cell_type": "markdown",
      "metadata": {
        "id": "9dZxGbjG96jR"
      },
      "source": [
        "# Utilizar modelo\n",
        "<img src=\"https://raw.githubusercontent.com/InoveAlumnos/dataset_analytics_python/master/images/Pipeline6.png\" width=\"1000\" align=\"middle\">"
      ]
    },
    {
      "cell_type": "code",
      "metadata": {
        "id": "7YH0C6473i5f",
        "colab": {
          "base_uri": "https://localhost:8080/"
        },
        "outputId": "1974acd2-162a-4afd-c87a-6f07a29286ad"
      },
      "source": [
        "# Alumno, ponga a prueba el modelo, ingrese datos ficticios y divertase un rato :)\n",
        "# Recordar que los datos de genero (Sex) ahora son numéricos para el modelo (0 o 1)\n",
        "# Debe utilizar el encoder que se generó antes para convertir los nuevos valores\n",
        "# Recordar que los datos de edad (Age) se normalizaron, debe utilizar ese\n",
        "# scaler generado para transformarlo\n",
        "\n",
        "Pclass = 2\n",
        "Sex = 'male'\n",
        "Age = 49\n",
        "SibSp = 1\n",
        "Parch = 1\n",
        "\n",
        "le_transform_sex = int(le_sex.transform([Sex]))\n",
        "\n",
        "Age_scaler_transform = float(Age_scaler.transform([[Age]]))\n",
        "\n",
        "X_prueba = np.array([Pclass, le_transform_sex, Age_scaler_transform, SibSp, Parch])\n",
        "X_prueba = X_prueba.reshape(1, -1)\n",
        "y_prueba = float(model.predict(X_prueba))\n",
        "\n",
        "if y_prueba >= 0.5:\n",
        "    print('Sobrevivi')\n",
        "else:\n",
        "    print('No sobrevivi')\n",
        "\n"
      ],
      "execution_count": 105,
      "outputs": [
        {
          "output_type": "stream",
          "name": "stdout",
          "text": [
            "1/1 [==============================] - 0s 17ms/step\n",
            "No sobrevivi\n"
          ]
        }
      ]
    }
  ]
}